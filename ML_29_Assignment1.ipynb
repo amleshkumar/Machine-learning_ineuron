{
 "cells": [
  {
   "cell_type": "code",
   "execution_count": null,
   "metadata": {},
   "outputs": [],
   "source": [
    "#Question No. 1"
   ]
  },
  {
   "cell_type": "code",
   "execution_count": 19,
   "metadata": {},
   "outputs": [
    {
     "name": "stdout",
     "output_type": "stream",
     "text": [
      "Enter a number\n",
      "2000\n",
      "Enter 2nd number\n",
      "3201\n"
     ]
    }
   ],
   "source": [
    "print(\"Enter a number\")\n",
    "num1= int(input())\n",
    "print(\"Enter 2nd number\")\n",
    "num2 = int(input())"
   ]
  },
  {
   "cell_type": "code",
   "execution_count": 20,
   "metadata": {},
   "outputs": [
    {
     "name": "stdout",
     "output_type": "stream",
     "text": [
      "2016\n",
      "2023\n",
      "2051\n",
      "2058\n",
      "2086\n",
      "2093\n",
      "2121\n",
      "2128\n",
      "2156\n",
      "2163\n",
      "2191\n",
      "2198\n",
      "2226\n",
      "2233\n",
      "2261\n",
      "2268\n",
      "2296\n",
      "2303\n",
      "2331\n",
      "2338\n",
      "2366\n",
      "2373\n",
      "2401\n",
      "2408\n",
      "2436\n",
      "2443\n",
      "2471\n",
      "2478\n",
      "2506\n",
      "2513\n",
      "2541\n",
      "2548\n",
      "2576\n",
      "2583\n",
      "2611\n",
      "2618\n",
      "2646\n",
      "2653\n",
      "2681\n",
      "2688\n",
      "2716\n",
      "2723\n",
      "2751\n",
      "2758\n",
      "2786\n",
      "2793\n",
      "2821\n",
      "2828\n",
      "2856\n",
      "2863\n",
      "2891\n",
      "2898\n",
      "2926\n",
      "2933\n",
      "2961\n",
      "2968\n",
      "2996\n",
      "3003\n",
      "3031\n",
      "3038\n",
      "3066\n",
      "3073\n",
      "3101\n",
      "3108\n",
      "3136\n",
      "3143\n",
      "3171\n",
      "3178\n"
     ]
    }
   ],
   "source": [
    "list = []\n",
    "for num in range(num1, num2):\n",
    "    if (num%7 == 0) & (num%5) != 0:\n",
    "        list.append((num))\n",
    "        print(num)\n",
    "        "
   ]
  },
  {
   "cell_type": "code",
   "execution_count": 21,
   "metadata": {},
   "outputs": [],
   "source": [
    "#Question No.2"
   ]
  },
  {
   "cell_type": "code",
   "execution_count": 22,
   "metadata": {},
   "outputs": [
    {
     "name": "stdout",
     "output_type": "stream",
     "text": [
      "Enter your 1st name\n",
      "Amelsh\n",
      "Enter your last name\n",
      "Kumar\n"
     ]
    }
   ],
   "source": [
    "print(\"Enter your 1st name\")\n",
    "first_name = input()\n",
    "print(\"Enter your last name\")\n",
    "last_name = input()\n"
   ]
  },
  {
   "cell_type": "code",
   "execution_count": 27,
   "metadata": {},
   "outputs": [
    {
     "name": "stdout",
     "output_type": "stream",
     "text": [
      "hslemA\n",
      "ramuK\n",
      "hslemA ramuK\n"
     ]
    }
   ],
   "source": [
    "rev_first_name = first_name[::-1]\n",
    "print(rev_first_name)\n",
    "rev_last_name = last_name[::-1]\n",
    "print(rev_last_name)\n",
    "\n",
    "print(rev_first_name +\" \" +rev_last_name)\n"
   ]
  },
  {
   "cell_type": "code",
   "execution_count": null,
   "metadata": {},
   "outputs": [],
   "source": []
  },
  {
   "cell_type": "code",
   "execution_count": 28,
   "metadata": {},
   "outputs": [],
   "source": [
    "#Question No. 3"
   ]
  },
  {
   "cell_type": "code",
   "execution_count": 53,
   "metadata": {},
   "outputs": [
    {
     "name": "stdout",
     "output_type": "stream",
     "text": [
      "Enter diameter of sphere\n",
      "12\n",
      "radius of sphere 6.0\n"
     ]
    }
   ],
   "source": [
    "print(\"Enter diameter of sphere\")\n",
    "diameter = float(input())\n",
    "radius = diameter/2\n",
    "print(\"radius of sphere\", radius)"
   ]
  },
  {
   "cell_type": "code",
   "execution_count": 54,
   "metadata": {},
   "outputs": [
    {
     "name": "stdout",
     "output_type": "stream",
     "text": [
      "volume of sphere 904.7786842338604\n"
     ]
    }
   ],
   "source": [
    "import math\n",
    "volume = ((4/3)*(radius**3.0)*math.pi)\n",
    "print(\"volume of sphere\", volume)"
   ]
  },
  {
   "cell_type": "code",
   "execution_count": null,
   "metadata": {},
   "outputs": [],
   "source": []
  },
  {
   "cell_type": "code",
   "execution_count": null,
   "metadata": {},
   "outputs": [],
   "source": []
  },
  {
   "cell_type": "code",
   "execution_count": null,
   "metadata": {},
   "outputs": [],
   "source": []
  },
  {
   "cell_type": "code",
   "execution_count": null,
   "metadata": {},
   "outputs": [],
   "source": []
  }
 ],
 "metadata": {
  "kernelspec": {
   "display_name": "Python 3",
   "language": "python",
   "name": "python3"
  },
  "language_info": {
   "codemirror_mode": {
    "name": "ipython",
    "version": 3
   },
   "file_extension": ".py",
   "mimetype": "text/x-python",
   "name": "python",
   "nbconvert_exporter": "python",
   "pygments_lexer": "ipython3",
   "version": "3.8.3"
  }
 },
 "nbformat": 4,
 "nbformat_minor": 4
}
